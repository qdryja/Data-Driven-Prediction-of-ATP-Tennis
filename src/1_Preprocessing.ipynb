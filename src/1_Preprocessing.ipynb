{
 "cells": [
  {
   "cell_type": "code",
   "execution_count": 1,
   "metadata": {},
   "outputs": [],
   "source": [
    "import os\n",
    "import pandas as pd\n",
    "import numpy as np\n",
    "from utilities.common import check_nans, filter_df_by_ids, parse_score, get_gs_df\n",
    "pd.set_option('display.max_columns', None)"
   ]
  },
  {
   "cell_type": "markdown",
   "metadata": {},
   "source": [
    "## Load all data"
   ]
  },
  {
   "cell_type": "code",
   "execution_count": 2,
   "metadata": {},
   "outputs": [],
   "source": [
    "PATH = \"../data/raw/matches/atp_matches_\"\n",
    "\n",
    "atp_all = pd.read_csv(\"../data/raw/matches/atp_matches_1968.csv\")\n",
    "\n",
    "for year in range(1969, 2025):\n",
    "    data = pd.read_csv(PATH + str(year) + \".csv\")\n",
    "    atp_all = pd.concat([atp_all, data], axis=0)\n"
   ]
  },
  {
   "cell_type": "markdown",
   "metadata": {},
   "source": [
    "## Rafa, Novak, Roger first ATP matches"
   ]
  },
  {
   "cell_type": "code",
   "execution_count": 3,
   "metadata": {},
   "outputs": [
    {
     "name": "stdout",
     "output_type": "stream",
     "text": [
      "Nadal: 2002-04-29T00:00:00.000000000Federer: 1998-07-06T00:00:00.000000000Djokovic: 2004-04-09T00:00:00.000000000\n"
     ]
    }
   ],
   "source": [
    "nadal_id = 104745\n",
    "federer_id = 103819\n",
    "djokovic_id = 104925\n",
    "\n",
    "atp_all['tourney_date'] = pd.to_datetime(atp_all['tourney_date'], format='%Y%m%d')\n",
    "\n",
    "nadal_first = atp_all[(atp_all['winner_id'] == nadal_id) | (atp_all['loser_id'] == nadal_id)].nsmallest(1, 'tourney_date')\n",
    "federer_first = atp_all[(atp_all['winner_id'] == federer_id) | (atp_all['loser_id'] == federer_id)].nsmallest(1, 'tourney_date')\n",
    "djokovic_first = atp_all[(atp_all['winner_id'] == djokovic_id) | (atp_all['loser_id'] == djokovic_id)].nsmallest(1, 'tourney_date')\n",
    "\n",
    "print(f\"Nadal: {nadal_first['tourney_date'].values[0]}\" \n",
    "      f\"Federer: {federer_first['tourney_date'].values[0]}\" \n",
    "      f\"Djokovic: {djokovic_first['tourney_date'].values[0]}\")"
   ]
  },
  {
   "cell_type": "markdown",
   "metadata": {},
   "source": [
    "## Load 1998-2024"
   ]
  },
  {
   "cell_type": "code",
   "execution_count": 4,
   "metadata": {},
   "outputs": [],
   "source": [
    "atp_recent = pd.read_csv(\"../data/raw/matches/atp_matches_1998.csv\")\n",
    "\n",
    "for year in range(1999, 2025):\n",
    "    data = pd.read_csv(PATH + str(year) + \".csv\")\n",
    "    atp_recent = pd.concat([atp_recent, data], axis=0)\n",
    "    \n",
    "atp_recent['tourney_date'] = pd.to_datetime(atp_recent['tourney_date'], format='%Y%m%d', errors='coerce')"
   ]
  },
  {
   "cell_type": "markdown",
   "metadata": {},
   "source": [
    "## Handle NaN values"
   ]
  },
  {
   "cell_type": "code",
   "execution_count": 5,
   "metadata": {},
   "outputs": [
    {
     "name": "stdout",
     "output_type": "stream",
     "text": [
      "Number of missing entries in 'surface': 53\n",
      "Number of missing entries in 'winner_seed': 48212\n",
      "Number of missing entries in 'winner_entry': 71442\n",
      "Number of missing entries in 'winner_ht': 1612\n",
      "Number of missing entries in 'winner_age': 5\n",
      "Number of missing entries in 'loser_seed': 63172\n",
      "Number of missing entries in 'loser_entry': 65076\n",
      "Number of missing entries in 'loser_hand': 4\n",
      "Number of missing entries in 'loser_ht': 3261\n",
      "Number of missing entries in 'loser_age': 3\n",
      "Number of missing entries in 'minutes': 9059\n",
      "Number of missing entries in 'winner_rank': 703\n",
      "Number of missing entries in 'winner_rank_points': 703\n",
      "Number of missing entries in 'loser_rank': 1683\n",
      "Number of missing entries in 'loser_rank_points': 1686\n",
      "Number of rows with missing player statistics: 7278\n",
      "Total rows with at least one missing value: 81831\n"
     ]
    }
   ],
   "source": [
    "check_nans(atp_recent)"
   ]
  },
  {
   "cell_type": "code",
   "execution_count": 6,
   "metadata": {},
   "outputs": [
    {
     "name": "stdout",
     "output_type": "stream",
     "text": [
      "Total unique players in Grand Slams since 2010: 599\n"
     ]
    }
   ],
   "source": [
    "gs_matches_2010_2024 = (get_gs_df(atp_recent))\n",
    "\n",
    "winner_ids = gs_matches_2010_2024['winner_id']\n",
    "loser_ids = gs_matches_2010_2024['loser_id']\n",
    "\n",
    "all_unique_gs_players = pd.concat([winner_ids, loser_ids]).dropna().astype(int).unique()\n",
    "all_unique_gs_players = sorted(all_unique_gs_players) \n",
    "\n",
    "print(f\"Total unique players in Grand Slams since 2010: {len(all_unique_gs_players)}\")\n"
   ]
  },
  {
   "cell_type": "code",
   "execution_count": 7,
   "metadata": {},
   "outputs": [
    {
     "name": "stdout",
     "output_type": "stream",
     "text": [
      "81831\n",
      "64900\n",
      "7493\n"
     ]
    }
   ],
   "source": [
    "print(len(atp_recent))\n",
    "print(len(filter_df_by_ids(atp_recent, all_unique_gs_players)))\n",
    "print(len(get_gs_df(atp_recent)))"
   ]
  },
  {
   "cell_type": "markdown",
   "metadata": {},
   "source": [
    "## Data Dropping"
   ]
  },
  {
   "cell_type": "code",
   "execution_count": 8,
   "metadata": {},
   "outputs": [
    {
     "name": "stdout",
     "output_type": "stream",
     "text": [
      "Number of useless rows dropepd: 412\n"
     ]
    }
   ],
   "source": [
    "atp_recent = atp_recent.drop([\"winner_seed\", \"winner_entry\", \"loser_seed\", \"loser_entry\"], axis=1)\n",
    "print(f\"Number of useless rows dropepd: {len(atp_recent[atp_recent['score'] == 'W/O'])}\")\n",
    "atp_recent = atp_recent[atp_recent['score'] != 'W/O']\n",
    "atp_recent = atp_recent.reset_index(drop=True)"
   ]
  },
  {
   "cell_type": "code",
   "execution_count": 9,
   "metadata": {},
   "outputs": [
    {
     "name": "stdout",
     "output_type": "stream",
     "text": [
      "81419\n",
      "64554\n",
      "7462\n"
     ]
    }
   ],
   "source": [
    "print(len(atp_recent))\n",
    "print(len(filter_df_by_ids(atp_recent, all_unique_gs_players)))\n",
    "print(len(get_gs_df(atp_recent)))"
   ]
  },
  {
   "cell_type": "code",
   "execution_count": 10,
   "metadata": {},
   "outputs": [
    {
     "name": "stdout",
     "output_type": "stream",
     "text": [
      "Number of missing entries in 'surface': 53\n"
     ]
    },
    {
     "name": "stdout",
     "output_type": "stream",
     "text": [
      "Number of missing entries in 'winner_ht': 1603\n",
      "Number of missing entries in 'winner_age': 5\n",
      "Number of missing entries in 'loser_hand': 4\n",
      "Number of missing entries in 'loser_ht': 3255\n",
      "Number of missing entries in 'loser_age': 3\n",
      "Number of missing entries in 'minutes': 8707\n",
      "Number of missing entries in 'winner_rank': 698\n",
      "Number of missing entries in 'winner_rank_points': 698\n",
      "Number of missing entries in 'loser_rank': 1680\n",
      "Number of missing entries in 'loser_rank_points': 1683\n",
      "Number of rows with missing player statistics: 6866\n",
      "Total rows with at least one missing value: 9841\n"
     ]
    }
   ],
   "source": [
    "check_nans(atp_recent)"
   ]
  },
  {
   "cell_type": "code",
   "execution_count": 11,
   "metadata": {},
   "outputs": [
    {
     "name": "stdout",
     "output_type": "stream",
     "text": [
      "Number of missing entries in 'surface': 9\n",
      "Number of missing entries in 'winner_ht': 112\n",
      "Number of missing entries in 'loser_hand': 1\n",
      "Number of missing entries in 'loser_ht': 839\n",
      "Number of missing entries in 'minutes': 5124\n",
      "Number of missing entries in 'winner_rank': 69\n",
      "Number of missing entries in 'winner_rank_points': 69\n",
      "Number of missing entries in 'loser_rank': 426\n",
      "Number of missing entries in 'loser_rank_points': 426\n",
      "Number of rows with missing player statistics: 3407\n",
      "Total rows with at least one missing value: 5625\n"
     ]
    }
   ],
   "source": [
    "check_nans(filter_df_by_ids(atp_recent, all_unique_gs_players))"
   ]
  },
  {
   "cell_type": "code",
   "execution_count": 12,
   "metadata": {},
   "outputs": [
    {
     "name": "stdout",
     "output_type": "stream",
     "text": [
      "Number of missing entries in 'minutes': 496\n",
      "Number of missing entries in 'winner_rank': 2\n",
      "Number of missing entries in 'winner_rank_points': 2\n",
      "Number of missing entries in 'loser_rank': 16\n",
      "Number of missing entries in 'loser_rank_points': 16\n",
      "Number of rows with missing player statistics: 1\n",
      "Total rows with at least one missing value: 515\n"
     ]
    }
   ],
   "source": [
    "check_nans(get_gs_df(atp_recent))"
   ]
  },
  {
   "cell_type": "code",
   "execution_count": 13,
   "metadata": {},
   "outputs": [],
   "source": [
    "MAX_RANK = 2000\n",
    "HEIGHT_MEAN = (\n",
    "    atp_recent[[\"winner_ht\", \"loser_ht\"]]\n",
    "    .stack()                 \n",
    "    .mean()\n",
    ")\n",
    "\n",
    "atp_recent = atp_recent.dropna(subset=[\n",
    "    \"w_ace\", \"w_df\", \"w_svpt\", \"w_1stIn\", \"w_1stWon\", \"w_2ndWon\", \"w_SvGms\", \"w_bpSaved\", \"w_bpFaced\",\n",
    "    \"l_ace\", \"l_df\", \"l_svpt\", \"l_1stIn\", \"l_1stWon\", \"l_2ndWon\", \"l_SvGms\", \"l_bpSaved\", \"l_bpFaced\",\n",
    "    ]\n",
    ")\n",
    "atp_recent = atp_recent.reset_index(drop=True)\n",
    "\n",
    "for side in [\"winner\", \"loser\"]:\n",
    "    ht_col   = f\"{side}_ht\"\n",
    "    rank_col  = f\"{side}_rank\"\n",
    "    pts_col   = f\"{side}_rank_points\"\n",
    "\n",
    "    atp_recent[rank_col]  = atp_recent[rank_col].fillna(MAX_RANK)\n",
    "    atp_recent[pts_col]   = atp_recent[pts_col].fillna(0)\n",
    "    atp_recent[ht_col] = atp_recent[ht_col].mask(\n",
    "    atp_recent[ht_col].isna() | (atp_recent[ht_col] < 150),\n",
    "    HEIGHT_MEAN\n",
    "    )"
   ]
  },
  {
   "cell_type": "code",
   "execution_count": 14,
   "metadata": {},
   "outputs": [
    {
     "name": "stdout",
     "output_type": "stream",
     "text": [
      "Number of missing entries in 'minutes': 496\n",
      "Number of rows with missing player statistics: 0\n",
      "Total rows with at least one missing value: 496\n"
     ]
    }
   ],
   "source": [
    "check_nans(get_gs_df(atp_recent))"
   ]
  },
  {
   "cell_type": "code",
   "execution_count": 15,
   "metadata": {},
   "outputs": [
    {
     "name": "stdout",
     "output_type": "stream",
     "text": [
      "Number of missing entries in 'winner_age': 1\n",
      "Number of missing entries in 'loser_age': 1\n",
      "Number of missing entries in 'minutes': 1854\n",
      "Number of rows with missing player statistics: 0\n",
      "Total rows with at least one missing value: 1856\n"
     ]
    }
   ],
   "source": [
    "check_nans(atp_recent)"
   ]
  },
  {
   "cell_type": "code",
   "execution_count": 16,
   "metadata": {},
   "outputs": [
    {
     "name": "stdout",
     "output_type": "stream",
     "text": [
      "Number of missing entries in 'minutes': 1728\n",
      "Number of rows with missing player statistics: 0\n",
      "Total rows with at least one missing value: 1728\n"
     ]
    }
   ],
   "source": [
    "check_nans(filter_df_by_ids(atp_recent, all_unique_gs_players))"
   ]
  },
  {
   "cell_type": "markdown",
   "metadata": {},
   "source": [
    "## Parse score"
   ]
  },
  {
   "cell_type": "code",
   "execution_count": 17,
   "metadata": {},
   "outputs": [],
   "source": [
    "score_features = atp_recent['score'].apply(parse_score).apply(pd.Series)\n",
    "\n",
    "atp_recent = pd.concat([atp_recent, score_features], axis=1)\n",
    "atp_recent['minutes'] = atp_recent.apply(\n",
    "    lambda row: row['total_games'] * 6 if pd.isna(row['minutes']) else row['minutes'],\n",
    "    axis=1\n",
    ")"
   ]
  },
  {
   "cell_type": "code",
   "execution_count": 18,
   "metadata": {},
   "outputs": [
    {
     "name": "stdout",
     "output_type": "stream",
     "text": [
      "Number of missing entries in 'winner_age': 1\n",
      "Number of missing entries in 'loser_age': 1\n",
      "Number of rows with missing player statistics: 0\n",
      "Total rows with at least one missing value: 2\n",
      "Number of rows with missing player statistics: 0\n",
      "Total rows with at least one missing value: 0\n",
      "Number of rows with missing player statistics: 0\n",
      "Total rows with at least one missing value: 0\n"
     ]
    }
   ],
   "source": [
    "check_nans(atp_recent)\n",
    "check_nans(get_gs_df(atp_recent))\n",
    "check_nans(filter_df_by_ids(atp_recent, all_unique_gs_players))\n"
   ]
  },
  {
   "cell_type": "code",
   "execution_count": 19,
   "metadata": {},
   "outputs": [
    {
     "name": "stdout",
     "output_type": "stream",
     "text": [
      "Number of missing entries in 'winner_age': 1\n",
      "Number of missing entries in 'loser_age': 1\n",
      "Number of rows with missing player statistics: 0\n",
      "Total rows with at least one missing value: 2\n",
      "Number of rows with missing player statistics: 0\n",
      "Total rows with at least one missing value: 0\n",
      "Number of rows with missing player statistics: 0\n",
      "Total rows with at least one missing value: 0\n"
     ]
    }
   ],
   "source": [
    "check_nans(atp_recent)\n",
    "check_nans(get_gs_df(atp_recent))\n",
    "check_nans(filter_df_by_ids(atp_recent, all_unique_gs_players))"
   ]
  },
  {
   "cell_type": "code",
   "execution_count": 20,
   "metadata": {},
   "outputs": [
    {
     "data": {
      "text/html": [
       "<div>\n",
       "<style scoped>\n",
       "    .dataframe tbody tr th:only-of-type {\n",
       "        vertical-align: middle;\n",
       "    }\n",
       "\n",
       "    .dataframe tbody tr th {\n",
       "        vertical-align: top;\n",
       "    }\n",
       "\n",
       "    .dataframe thead th {\n",
       "        text-align: right;\n",
       "    }\n",
       "</style>\n",
       "<table border=\"1\" class=\"dataframe\">\n",
       "  <thead>\n",
       "    <tr style=\"text-align: right;\">\n",
       "      <th></th>\n",
       "      <th>tourney_id</th>\n",
       "      <th>tourney_name</th>\n",
       "      <th>surface</th>\n",
       "      <th>draw_size</th>\n",
       "      <th>tourney_level</th>\n",
       "      <th>tourney_date</th>\n",
       "      <th>match_num</th>\n",
       "      <th>winner_id</th>\n",
       "      <th>winner_name</th>\n",
       "      <th>winner_hand</th>\n",
       "      <th>winner_ht</th>\n",
       "      <th>winner_ioc</th>\n",
       "      <th>winner_age</th>\n",
       "      <th>loser_id</th>\n",
       "      <th>loser_name</th>\n",
       "      <th>loser_hand</th>\n",
       "      <th>loser_ht</th>\n",
       "      <th>loser_ioc</th>\n",
       "      <th>loser_age</th>\n",
       "      <th>score</th>\n",
       "      <th>best_of</th>\n",
       "      <th>round</th>\n",
       "      <th>minutes</th>\n",
       "      <th>w_ace</th>\n",
       "      <th>w_df</th>\n",
       "      <th>w_svpt</th>\n",
       "      <th>w_1stIn</th>\n",
       "      <th>w_1stWon</th>\n",
       "      <th>w_2ndWon</th>\n",
       "      <th>w_SvGms</th>\n",
       "      <th>w_bpSaved</th>\n",
       "      <th>w_bpFaced</th>\n",
       "      <th>l_ace</th>\n",
       "      <th>l_df</th>\n",
       "      <th>l_svpt</th>\n",
       "      <th>l_1stIn</th>\n",
       "      <th>l_1stWon</th>\n",
       "      <th>l_2ndWon</th>\n",
       "      <th>l_SvGms</th>\n",
       "      <th>l_bpSaved</th>\n",
       "      <th>l_bpFaced</th>\n",
       "      <th>winner_rank</th>\n",
       "      <th>winner_rank_points</th>\n",
       "      <th>loser_rank</th>\n",
       "      <th>loser_rank_points</th>\n",
       "      <th>total_games</th>\n",
       "      <th>num_tiebreaks</th>\n",
       "      <th>has_tiebreak</th>\n",
       "      <th>winner_tb_won</th>\n",
       "      <th>loser_tb_won</th>\n",
       "    </tr>\n",
       "  </thead>\n",
       "  <tbody>\n",
       "    <tr>\n",
       "      <th>74523</th>\n",
       "      <td>2024-M-DC-2024-WG2-PO-ESA-POC-01</td>\n",
       "      <td>Davis Cup WG2 PO: ESA vs POC</td>\n",
       "      <td>Hard</td>\n",
       "      <td>4</td>\n",
       "      <td>D</td>\n",
       "      <td>2024-02-02</td>\n",
       "      <td>1</td>\n",
       "      <td>209294</td>\n",
       "      <td>Diego Duran</td>\n",
       "      <td>U</td>\n",
       "      <td>185.855843</td>\n",
       "      <td>ESA</td>\n",
       "      <td>NaN</td>\n",
       "      <td>210249</td>\n",
       "      <td>Gillian Osmont</td>\n",
       "      <td>R</td>\n",
       "      <td>185.855843</td>\n",
       "      <td>FRA</td>\n",
       "      <td>20.7</td>\n",
       "      <td>6-3 6-0</td>\n",
       "      <td>3</td>\n",
       "      <td>RR</td>\n",
       "      <td>69.0</td>\n",
       "      <td>4.0</td>\n",
       "      <td>1.0</td>\n",
       "      <td>46.0</td>\n",
       "      <td>27.0</td>\n",
       "      <td>19.0</td>\n",
       "      <td>13.0</td>\n",
       "      <td>8.0</td>\n",
       "      <td>0.0</td>\n",
       "      <td>1.0</td>\n",
       "      <td>2.0</td>\n",
       "      <td>5.0</td>\n",
       "      <td>46.0</td>\n",
       "      <td>24.0</td>\n",
       "      <td>16.0</td>\n",
       "      <td>3.0</td>\n",
       "      <td>7.0</td>\n",
       "      <td>4.0</td>\n",
       "      <td>9.0</td>\n",
       "      <td>2000.0</td>\n",
       "      <td>0.0</td>\n",
       "      <td>2000.0</td>\n",
       "      <td>0.0</td>\n",
       "      <td>15</td>\n",
       "      <td>0</td>\n",
       "      <td>False</td>\n",
       "      <td>0</td>\n",
       "      <td>0</td>\n",
       "    </tr>\n",
       "  </tbody>\n",
       "</table>\n",
       "</div>"
      ],
      "text/plain": [
       "                             tourney_id                  tourney_name surface  \\\n",
       "74523  2024-M-DC-2024-WG2-PO-ESA-POC-01  Davis Cup WG2 PO: ESA vs POC    Hard   \n",
       "\n",
       "       draw_size tourney_level tourney_date  match_num  winner_id  \\\n",
       "74523          4             D   2024-02-02          1     209294   \n",
       "\n",
       "       winner_name winner_hand   winner_ht winner_ioc  winner_age  loser_id  \\\n",
       "74523  Diego Duran           U  185.855843        ESA         NaN    210249   \n",
       "\n",
       "           loser_name loser_hand    loser_ht loser_ioc  loser_age    score  \\\n",
       "74523  Gillian Osmont          R  185.855843       FRA       20.7  6-3 6-0   \n",
       "\n",
       "       best_of round  minutes  w_ace  w_df  w_svpt  w_1stIn  w_1stWon  \\\n",
       "74523        3    RR     69.0    4.0   1.0    46.0     27.0      19.0   \n",
       "\n",
       "       w_2ndWon  w_SvGms  w_bpSaved  w_bpFaced  l_ace  l_df  l_svpt  l_1stIn  \\\n",
       "74523      13.0      8.0        0.0        1.0    2.0   5.0    46.0     24.0   \n",
       "\n",
       "       l_1stWon  l_2ndWon  l_SvGms  l_bpSaved  l_bpFaced  winner_rank  \\\n",
       "74523      16.0       3.0      7.0        4.0        9.0       2000.0   \n",
       "\n",
       "       winner_rank_points  loser_rank  loser_rank_points  total_games  \\\n",
       "74523                 0.0      2000.0                0.0           15   \n",
       "\n",
       "       num_tiebreaks  has_tiebreak  winner_tb_won  loser_tb_won  \n",
       "74523              0         False              0             0  "
      ]
     },
     "metadata": {},
     "output_type": "display_data"
    },
    {
     "data": {
      "text/html": [
       "<div>\n",
       "<style scoped>\n",
       "    .dataframe tbody tr th:only-of-type {\n",
       "        vertical-align: middle;\n",
       "    }\n",
       "\n",
       "    .dataframe tbody tr th {\n",
       "        vertical-align: top;\n",
       "    }\n",
       "\n",
       "    .dataframe thead th {\n",
       "        text-align: right;\n",
       "    }\n",
       "</style>\n",
       "<table border=\"1\" class=\"dataframe\">\n",
       "  <thead>\n",
       "    <tr style=\"text-align: right;\">\n",
       "      <th></th>\n",
       "      <th>tourney_id</th>\n",
       "      <th>tourney_name</th>\n",
       "      <th>surface</th>\n",
       "      <th>draw_size</th>\n",
       "      <th>tourney_level</th>\n",
       "      <th>tourney_date</th>\n",
       "      <th>match_num</th>\n",
       "      <th>winner_id</th>\n",
       "      <th>winner_name</th>\n",
       "      <th>winner_hand</th>\n",
       "      <th>winner_ht</th>\n",
       "      <th>winner_ioc</th>\n",
       "      <th>winner_age</th>\n",
       "      <th>loser_id</th>\n",
       "      <th>loser_name</th>\n",
       "      <th>loser_hand</th>\n",
       "      <th>loser_ht</th>\n",
       "      <th>loser_ioc</th>\n",
       "      <th>loser_age</th>\n",
       "      <th>score</th>\n",
       "      <th>best_of</th>\n",
       "      <th>round</th>\n",
       "      <th>minutes</th>\n",
       "      <th>w_ace</th>\n",
       "      <th>w_df</th>\n",
       "      <th>w_svpt</th>\n",
       "      <th>w_1stIn</th>\n",
       "      <th>w_1stWon</th>\n",
       "      <th>w_2ndWon</th>\n",
       "      <th>w_SvGms</th>\n",
       "      <th>w_bpSaved</th>\n",
       "      <th>w_bpFaced</th>\n",
       "      <th>l_ace</th>\n",
       "      <th>l_df</th>\n",
       "      <th>l_svpt</th>\n",
       "      <th>l_1stIn</th>\n",
       "      <th>l_1stWon</th>\n",
       "      <th>l_2ndWon</th>\n",
       "      <th>l_SvGms</th>\n",
       "      <th>l_bpSaved</th>\n",
       "      <th>l_bpFaced</th>\n",
       "      <th>winner_rank</th>\n",
       "      <th>winner_rank_points</th>\n",
       "      <th>loser_rank</th>\n",
       "      <th>loser_rank_points</th>\n",
       "      <th>total_games</th>\n",
       "      <th>num_tiebreaks</th>\n",
       "      <th>has_tiebreak</th>\n",
       "      <th>winner_tb_won</th>\n",
       "      <th>loser_tb_won</th>\n",
       "    </tr>\n",
       "  </thead>\n",
       "  <tbody>\n",
       "    <tr>\n",
       "      <th>74522</th>\n",
       "      <td>2024-M-DC-2024-WG2-PO-CYP-MAR-01</td>\n",
       "      <td>Davis Cup WG2 PO: CYP vs MAR</td>\n",
       "      <td>Hard</td>\n",
       "      <td>4</td>\n",
       "      <td>D</td>\n",
       "      <td>2024-02-03</td>\n",
       "      <td>4</td>\n",
       "      <td>210308</td>\n",
       "      <td>Stylianos Christodoulou</td>\n",
       "      <td>U</td>\n",
       "      <td>185.855843</td>\n",
       "      <td>CYP</td>\n",
       "      <td>19.2</td>\n",
       "      <td>127195</td>\n",
       "      <td>Hamza Karmoussi</td>\n",
       "      <td>U</td>\n",
       "      <td>185.855843</td>\n",
       "      <td>MAR</td>\n",
       "      <td>NaN</td>\n",
       "      <td>6-3 6-1</td>\n",
       "      <td>3</td>\n",
       "      <td>RR</td>\n",
       "      <td>60.0</td>\n",
       "      <td>7.0</td>\n",
       "      <td>1.0</td>\n",
       "      <td>50.0</td>\n",
       "      <td>37.0</td>\n",
       "      <td>29.0</td>\n",
       "      <td>6.0</td>\n",
       "      <td>8.0</td>\n",
       "      <td>3.0</td>\n",
       "      <td>3.0</td>\n",
       "      <td>0.0</td>\n",
       "      <td>3.0</td>\n",
       "      <td>49.0</td>\n",
       "      <td>30.0</td>\n",
       "      <td>14.0</td>\n",
       "      <td>9.0</td>\n",
       "      <td>8.0</td>\n",
       "      <td>2.0</td>\n",
       "      <td>6.0</td>\n",
       "      <td>1114.0</td>\n",
       "      <td>8.0</td>\n",
       "      <td>2000.0</td>\n",
       "      <td>0.0</td>\n",
       "      <td>16</td>\n",
       "      <td>0</td>\n",
       "      <td>False</td>\n",
       "      <td>0</td>\n",
       "      <td>0</td>\n",
       "    </tr>\n",
       "  </tbody>\n",
       "</table>\n",
       "</div>"
      ],
      "text/plain": [
       "                             tourney_id                  tourney_name surface  \\\n",
       "74522  2024-M-DC-2024-WG2-PO-CYP-MAR-01  Davis Cup WG2 PO: CYP vs MAR    Hard   \n",
       "\n",
       "       draw_size tourney_level tourney_date  match_num  winner_id  \\\n",
       "74522          4             D   2024-02-03          4     210308   \n",
       "\n",
       "                   winner_name winner_hand   winner_ht winner_ioc  winner_age  \\\n",
       "74522  Stylianos Christodoulou           U  185.855843        CYP        19.2   \n",
       "\n",
       "       loser_id       loser_name loser_hand    loser_ht loser_ioc  loser_age  \\\n",
       "74522    127195  Hamza Karmoussi          U  185.855843       MAR        NaN   \n",
       "\n",
       "         score  best_of round  minutes  w_ace  w_df  w_svpt  w_1stIn  \\\n",
       "74522  6-3 6-1        3    RR     60.0    7.0   1.0    50.0     37.0   \n",
       "\n",
       "       w_1stWon  w_2ndWon  w_SvGms  w_bpSaved  w_bpFaced  l_ace  l_df  l_svpt  \\\n",
       "74522      29.0       6.0      8.0        3.0        3.0    0.0   3.0    49.0   \n",
       "\n",
       "       l_1stIn  l_1stWon  l_2ndWon  l_SvGms  l_bpSaved  l_bpFaced  \\\n",
       "74522     30.0      14.0       9.0      8.0        2.0        6.0   \n",
       "\n",
       "       winner_rank  winner_rank_points  loser_rank  loser_rank_points  \\\n",
       "74522       1114.0                 8.0      2000.0                0.0   \n",
       "\n",
       "       total_games  num_tiebreaks  has_tiebreak  winner_tb_won  loser_tb_won  \n",
       "74522           16              0         False              0             0  "
      ]
     },
     "metadata": {},
     "output_type": "display_data"
    }
   ],
   "source": [
    "display(atp_recent[atp_recent['winner_age'].isna()])\n",
    "display(atp_recent[atp_recent['loser_age'].isna()])\n",
    "\n",
    "mask1 = (atp_recent[\"winner_id\"] == 209294) & (atp_recent[\"winner_age\"].isna()) \n",
    "atp_recent.loc[mask1, \"winner_age\"] = 20\n",
    "\n",
    "mask2 = (atp_recent[\"loser_id\"] == 127195) & (atp_recent[\"loser_age\"].isna()) \n",
    "atp_recent.loc[mask2, \"loser_age\"] = 31"
   ]
  },
  {
   "cell_type": "code",
   "execution_count": 21,
   "metadata": {},
   "outputs": [
    {
     "name": "stdout",
     "output_type": "stream",
     "text": [
      "Number of rows with missing player statistics: 0\n",
      "Total rows with at least one missing value: 0\n",
      "Number of rows with missing player statistics: 0\n",
      "Total rows with at least one missing value: 0\n",
      "Number of rows with missing player statistics: 0\n",
      "Total rows with at least one missing value: 0\n"
     ]
    }
   ],
   "source": [
    "check_nans(atp_recent)\n",
    "check_nans(get_gs_df(atp_recent))\n",
    "check_nans(filter_df_by_ids(atp_recent, all_unique_gs_players))"
   ]
  },
  {
   "cell_type": "code",
   "execution_count": 22,
   "metadata": {},
   "outputs": [
    {
     "name": "stdout",
     "output_type": "stream",
     "text": [
      "74553\n",
      "61147\n",
      "7461\n"
     ]
    }
   ],
   "source": [
    "print(len(atp_recent))\n",
    "print(len(filter_df_by_ids(atp_recent, all_unique_gs_players)))\n",
    "print(len(get_gs_df(atp_recent)))"
   ]
  },
  {
   "cell_type": "markdown",
   "metadata": {},
   "source": [
    "## Match Date"
   ]
  },
  {
   "cell_type": "code",
   "execution_count": 23,
   "metadata": {},
   "outputs": [],
   "source": [
    "OFFSET_G = {\n",
    "    \"R128\": 0,  \"R64\": 2,  \"R32\": 4,  \"R16\": 6,\n",
    "    \"QF\": 9,    \"SF\": 11,  \"F\": 13,\n",
    "    \"BR\": 0,    \"RR\": 0,  \"ER\": 0\n",
    "}\n",
    "\n",
    "OFFSET_O = {\n",
    "    \"R128\": 0, \"R64\": 0,  \"R32\": 1,  \"R16\": 2,\n",
    "    \"QF\": 3,   \"SF\": 4,   \"F\": 6,\n",
    "    \"BR\": 5,   \"RR\": 0,   \"ER\": 0\n",
    "}\n",
    "\n",
    "OFFSET_AFM = {\n",
    "    \"R128\": 0, \"R64\": 1,  \"R32\": 2,  \"R16\": 3,\n",
    "    \"QF\": 4,   \"SF\": 5,   \"F\": 7,\n",
    "    \"BR\": 6,   \"RR\": 0,   \"ER\": -1\n",
    "}\n",
    "\n",
    "OFFSET_D = {\n",
    "    \"R128\": 0, \"R64\": 0,  \"R32\": 0,  \"R16\": 0,\n",
    "    \"QF\": 0,   \"SF\": 0,   \"F\": 0,\n",
    "    \"BR\": 0,   \"RR\": 0,   \"ER\": 0\n",
    "}\n",
    "\n",
    "level_offset_map = {\n",
    "    \"G\": OFFSET_G,\n",
    "    \"O\": OFFSET_O,\n",
    "    \"A\": OFFSET_AFM,   \n",
    "    \"F\": OFFSET_AFM,   \n",
    "    \"M\": OFFSET_AFM,   \n",
    "    \"D\": OFFSET_D      \n",
    "}\n",
    "\n",
    "atp_recent[\"offset_days\"] = atp_recent.apply(\n",
    "    lambda r: level_offset_map[r[\"tourney_level\"]].get(r[\"round\"], 0),\n",
    "    axis=1\n",
    ")\n",
    "\n",
    "\n",
    "atp_recent[\"match_date\"] = (\n",
    "    atp_recent[\"tourney_date\"]\n",
    "    + pd.to_timedelta(atp_recent[\"offset_days\"], unit=\"D\")\n",
    ")"
   ]
  },
  {
   "cell_type": "markdown",
   "metadata": {},
   "source": [
    "## Some Regularization"
   ]
  },
  {
   "cell_type": "code",
   "execution_count": 24,
   "metadata": {},
   "outputs": [],
   "source": [
    "atp_recent['tourney_name'] = atp_recent['tourney_name'].replace('Us Open', 'US Open')\n",
    "atp_recent['winner_hand'] = atp_recent['winner_hand'].replace(['U', 'A'], 'R')\n",
    "atp_recent['loser_hand'] = atp_recent['loser_hand'].replace(['U', 'A'], 'R')"
   ]
  },
  {
   "cell_type": "markdown",
   "metadata": {},
   "source": [
    "## Symmetric Recording of Players"
   ]
  },
  {
   "cell_type": "code",
   "execution_count": 25,
   "metadata": {},
   "outputs": [],
   "source": [
    "winner_loser_pairs = {\n",
    "    'winner_id'             : 'loser_id',\n",
    "    'winner_name'           : 'loser_name',\n",
    "    'winner_hand'           : 'loser_hand',\n",
    "    'winner_ht'             : 'loser_ht',\n",
    "    'winner_ioc'            : 'loser_ioc',\n",
    "    'winner_age'            : 'loser_age',\n",
    "    'w_ace'                 : 'l_ace',\n",
    "    'w_df'                  : 'l_df',\n",
    "    'w_svpt'                : 'l_svpt',\n",
    "    'w_1stIn'               : 'l_1stIn',\n",
    "    'w_1stWon'              : 'l_1stWon',\n",
    "    'w_2ndWon'              : 'l_2ndWon',\n",
    "    'w_SvGms'               : 'l_SvGms',\n",
    "    'w_bpSaved'             : 'l_bpSaved',\n",
    "    'w_bpFaced'             : 'l_bpFaced',\n",
    "    'winner_rank'           : 'loser_rank',\n",
    "    'winner_rank_points'    : 'loser_rank_points',\n",
    "    'winner_tb_won'         : 'loser_tb_won'\n",
    "}\n",
    "\n",
    "rng = np.random.default_rng(42)       \n",
    "random_mask = rng.integers(2, size=len(atp_recent))\n",
    "\n",
    "for w_col, l_col in winner_loser_pairs.items():\n",
    "    \n",
    "    base_name = w_col.replace('winner_', '').replace('loser_', '') \\\n",
    "                     .replace('w_', '').replace('l_', '')\n",
    "    \n",
    "    p1_col = f'p1_{base_name}'\n",
    "    p2_col = f'p2_{base_name}'\n",
    "    \n",
    "    atp_recent[p1_col] = np.where(random_mask == 0, atp_recent[w_col], atp_recent[l_col])\n",
    "    atp_recent[p2_col] = np.where(random_mask == 0, atp_recent[l_col], atp_recent[w_col])\n",
    "\n",
    "atp_recent['result'] = np.where(random_mask == 0, 1, 0)\n",
    "\n",
    "atp_recent.drop(columns=list(winner_loser_pairs.keys()) + list(winner_loser_pairs.values()), \n",
    "        inplace=True, errors='ignore')\n",
    "\n",
    "atp_recent.to_csv(\"../data/processed/Preprocessed_Data.csv\", index=False)\n"
   ]
  }
 ],
 "metadata": {
  "kernelspec": {
   "display_name": "Python 3",
   "language": "python",
   "name": "python3"
  },
  "language_info": {
   "codemirror_mode": {
    "name": "ipython",
    "version": 3
   },
   "file_extension": ".py",
   "mimetype": "text/x-python",
   "name": "python",
   "nbconvert_exporter": "python",
   "pygments_lexer": "ipython3",
   "version": "3.10.12"
  }
 },
 "nbformat": 4,
 "nbformat_minor": 2
}
